{
 "cells": [
  {
   "cell_type": "markdown",
   "id": "9c592ed9",
   "metadata": {},
   "source": [
    "This notebook will convert an audio file into text"
   ]
  },
  {
   "cell_type": "code",
   "execution_count": 10,
   "id": "b07370ae",
   "metadata": {},
   "outputs": [],
   "source": [
    "import os\n",
    "from pathlib import Path\n",
    "import azure.cognitiveservices.speech as speechsdk"
   ]
  },
  {
   "cell_type": "markdown",
   "id": "fd8cd286",
   "metadata": {},
   "source": [
    "Please change the two variables below to your key and your azure region"
   ]
  },
  {
   "cell_type": "code",
   "execution_count": 11,
   "id": "e643d384",
   "metadata": {},
   "outputs": [],
   "source": [
    "speech_key = \"YOUR_KEY\"\n",
    "service_region = \"YOUR_REGION\""
   ]
  },
  {
   "cell_type": "code",
   "execution_count": 12,
   "id": "ba52be18",
   "metadata": {},
   "outputs": [],
   "source": [
    "# audio2.wav\n",
    "audio_file_path = Path(\"data/audio2.wav\").resolve()\n",
    "\n",
    "speech_config = speechsdk.SpeechConfig(subscription=speech_key, region=service_region)\n",
    "audio_input = speechsdk.AudioConfig(filename=str(audio_file_path))\n",
    "speech_recognizer = speechsdk.SpeechRecognizer(speech_config=speech_config, audio_config=audio_input)"
   ]
  },
  {
   "cell_type": "code",
   "execution_count": 13,
   "id": "4f7f2537",
   "metadata": {},
   "outputs": [
    {
     "name": "stdout",
     "output_type": "stream",
     "text": [
      "Recognizing first result...\n",
      "Speech Recognition canceled: CancellationReason.Error\n",
      "Error details: Connection failed (no connection to the remote host). Internal error: 1. Error details: Code: -2. SessionId: 45be1c21c7114eaaa5ade538810f5332\n"
     ]
    }
   ],
   "source": [
    "def recognize_audio_file():\n",
    "    print('Recognizing first result...')\n",
    "\n",
    "    result = speech_recognizer.recognize_once()\n",
    "    if result.reason == speechsdk.ResultReason.RecognizedSpeech:\n",
    "        print('Recognized: {}'.format(result.text))\n",
    "    elif result.reason == speechsdk.ResultReason.NoMatch:\n",
    "        print('No speech could be recognized: {}'.format(result.no_match_details))\n",
    "    elif result.reason == speechsdk.ResultReason.Canceled:\n",
    "        cancellation_details = result.cancellation_details\n",
    "        print('Speech Recognition canceled: {}'.format(cancellation_details.reason))\n",
    "        if cancellation_details.reason == speechsdk.CancellationReason.Error:\n",
    "            print('Error details: {}'.format(cancellation_details.error_details))\n",
    "\n",
    "if __name__ == '__main__':\n",
    "    recognize_audio_file()"
   ]
  },
  {
   "cell_type": "markdown",
   "id": "0b87d9fc",
   "metadata": {},
   "source": [
    "The error below is because you have to change the speech_key and service_region to your azure speech to text credentials\n",
    "\n",
    "Recognizing first result...\n",
    "Speech Recognition canceled: CancellationReason.Error\n",
    "Error details: Connection failed (no connection to the remote host). Internal error: 1. Error details: Code: -2. SessionId: 45be1c21c7114eaaa5ade538810f5332"
   ]
  },
  {
   "cell_type": "code",
   "execution_count": null,
   "id": "79aaa5f9",
   "metadata": {},
   "outputs": [],
   "source": []
  }
 ],
 "metadata": {
  "kernelspec": {
   "display_name": "Python 3",
   "language": "python",
   "name": "python3"
  },
  "language_info": {
   "codemirror_mode": {
    "name": "ipython",
    "version": 3
   },
   "file_extension": ".py",
   "mimetype": "text/x-python",
   "name": "python",
   "nbconvert_exporter": "python",
   "pygments_lexer": "ipython3",
   "version": "3.6.9"
  }
 },
 "nbformat": 4,
 "nbformat_minor": 5
}
